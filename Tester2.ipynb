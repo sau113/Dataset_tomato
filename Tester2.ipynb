{
  "nbformat": 4,
  "nbformat_minor": 0,
  "metadata": {
    "colab": {
      "name": "Untitled2.ipynb",
      "version": "0.3.2",
      "provenance": [],
      "include_colab_link": true
    },
    "kernelspec": {
      "name": "python3",
      "display_name": "Python 3"
    }
  },
  "cells": [
    {
      "cell_type": "markdown",
      "metadata": {
        "id": "view-in-github",
        "colab_type": "text"
      },
      "source": [
        "<a href=\"https://colab.research.google.com/github/sau113/Dataset_tomato/blob/master/Tester2.ipynb\" target=\"_parent\"><img src=\"https://colab.research.google.com/assets/colab-badge.svg\" alt=\"Open In Colab\"/></a>"
      ]
    },
    {
      "metadata": {
        "id": "MZ-B6rRnAIs-",
        "colab_type": "code",
        "outputId": "0cdc9c32-da37-4e6e-9389-1a27bef3e32f",
        "colab": {
          "base_uri": "https://localhost:8080/",
          "height": 410
        }
      },
      "cell_type": "code",
      "source": [
        "\n",
        "! rm -r Dataset_tomato\n",
        "\n",
        "! git clone https://github.com/sau113/Dataset_tomato.git\n",
        "  \n",
        "\n",
        "\n",
        "\n",
        "from keras.preprocessing import image\n",
        "import numpy as np\n",
        "import h5py\n",
        "from keras.models import load_model\n",
        "\n",
        "% cd Dataset_tomato\n",
        "\n",
        "\n",
        "! ls\n",
        "\n",
        "network = load_model('train_data.h5')\n",
        "\n",
        "test_image = image.load_img('Test_set/YCV.jpg', target_size=(64, 64))\n",
        "test_image = image.img_to_array(test_image)\n",
        "\n",
        "test_image = np.expand_dims(test_image, axis=0)\n",
        "\n",
        "\n",
        "\n",
        "classes = network.predict(test_image)\n",
        "print(classes)\n",
        "if classes == 1:\n",
        "    print(\"Healthy\")\n",
        "else:\n",
        "    print(\"Diseased\")\n",
        "    \n",
        "% cd .."
      ],
      "execution_count": 2,
      "outputs": [
        {
          "output_type": "stream",
          "text": [
            "rm: cannot remove 'Dataset_tomato': No such file or directory\n",
            "Cloning into 'Dataset_tomato'...\n",
            "remote: Enumerating objects: 19, done.\u001b[K\n",
            "remote: Counting objects: 100% (19/19), done.\u001b[K\n",
            "remote: Compressing objects: 100% (17/17), done.\u001b[K\n",
            "remote: Total 11528 (delta 5), reused 11 (delta 2), pack-reused 11509\u001b[K\n",
            "Receiving objects: 100% (11528/11528), 171.56 MiB | 37.00 MiB/s, done.\n",
            "Resolving deltas: 100% (34/34), done.\n",
            "Checking out files: 100% (11442/11442), done.\n",
            "/content/Dataset_tomato\n",
            "Tester.ipynb  train_data.h5  Training_set\n",
            "Test_set      Trainer.ipynb  Validation_set\n",
            "WARNING:tensorflow:From /usr/local/lib/python3.6/dist-packages/tensorflow/python/framework/op_def_library.py:263: colocate_with (from tensorflow.python.framework.ops) is deprecated and will be removed in a future version.\n",
            "Instructions for updating:\n",
            "Colocations handled automatically by placer.\n",
            "WARNING:tensorflow:From /usr/local/lib/python3.6/dist-packages/tensorflow/python/ops/math_ops.py:3066: to_int32 (from tensorflow.python.ops.math_ops) is deprecated and will be removed in a future version.\n",
            "Instructions for updating:\n",
            "Use tf.cast instead.\n",
            "[[0.]]\n",
            "Diseased\n",
            "/content\n"
          ],
          "name": "stdout"
        }
      ]
    }
  ]
}