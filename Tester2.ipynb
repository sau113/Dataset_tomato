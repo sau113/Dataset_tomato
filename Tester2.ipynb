{
  "nbformat": 4,
  "nbformat_minor": 0,
  "metadata": {
    "colab": {
      "name": "Untitled2.ipynb",
      "version": "0.3.2",
      "provenance": [],
      "include_colab_link": true
    },
    "kernelspec": {
      "name": "python3",
      "display_name": "Python 3"
    }
  },
  "cells": [
    {
      "cell_type": "markdown",
      "metadata": {
        "id": "view-in-github",
        "colab_type": "text"
      },
      "source": [
        "<a href=\"https://colab.research.google.com/github/sau113/Dataset_tomato/blob/master/Tester2.ipynb\" target=\"_parent\"><img src=\"https://colab.research.google.com/assets/colab-badge.svg\" alt=\"Open In Colab\"/></a>"
      ]
    },
    {
      "metadata": {
        "id": "MZ-B6rRnAIs-",
        "colab_type": "code",
        "outputId": "9e28c176-bb99-4ef1-feee-2e0c4516a69d",
        "colab": {
          "base_uri": "https://localhost:8080/",
          "height": 411
        }
      },
      "cell_type": "code",
      "source": [
        "\n",
        "! rm -r Dataset_tomato\n",
        "\n",
        "! git clone https://github.com/sau113/Dataset_tomato.git\n",
        "  \n",
        "\n",
        "\n",
        "\n",
        "from keras.preprocessing import image\n",
        "import numpy as np\n",
        "import h5py\n",
        "from keras.models import load_model\n",
        "\n",
        "% cd Dataset_tomato\n",
        "\n",
        "\n",
        "! ls\n",
        "\n",
        "network = load_model('train_data.h5')\n",
        "\n",
        "test_image = image.load_img('Test_set/YCV.jpg', target_size=(64, 64))\n",
        "test_image = image.img_to_array(test_image)\n",
        "\n",
        "test_image = np.expand_dims(test_image, axis=0)\n",
        "\n",
        "\n",
        "\n",
        "classes = network.predict(test_image)\n",
        "print(classes)\n",
        "if classes[0,0] == 1:\n",
        "  print(\"Bacterial Spot\")\n",
        "elif classes[0,1] == 1:\n",
        "  print(\"Early Blight\")\n",
        "elif classes[0,3] == 1:\n",
        "  print(\"Late Blight\")\n",
        "elif classes[0,4] == 1:\n",
        "  print(\"Leaf Mold\")\n",
        "elif classes[0,5] == 1:\n",
        "  print(\"Yellow Curl Virus\")\n",
        "else :\n",
        "  print(\"Healthy\")\n",
        "    \n",
        "% cd .."
      ],
      "execution_count": 1,
      "outputs": [
        {
          "output_type": "stream",
          "text": [
            "rm: cannot remove 'Dataset_tomato': No such file or directory\n",
            "Cloning into 'Dataset_tomato'...\n",
            "remote: Enumerating objects: 43, done.\u001b[K\n",
            "remote: Counting objects: 100% (43/43), done.\u001b[K\n",
            "remote: Compressing objects: 100% (36/36), done.\u001b[K\n",
            "remote: Total 11552 (delta 17), reused 26 (delta 7), pack-reused 11509\u001b[K\n",
            "Receiving objects: 100% (11552/11552), 176.60 MiB | 34.86 MiB/s, done.\n",
            "Resolving deltas: 100% (46/46), done.\n",
            "Checking out files: 100% (11444/11444), done.\n"
          ],
          "name": "stdout"
        },
        {
          "output_type": "stream",
          "text": [
            "Using TensorFlow backend.\n"
          ],
          "name": "stderr"
        },
        {
          "output_type": "stream",
          "text": [
            "/content/Dataset_tomato\n",
            "Tester2.ipynb  Test_set       Trainer2.ipynb  Training_set\n",
            "Tester.ipynb   train_data.h5  Trainer.ipynb   Validation_set\n",
            "WARNING:tensorflow:From /usr/local/lib/python3.6/dist-packages/tensorflow/python/framework/op_def_library.py:263: colocate_with (from tensorflow.python.framework.ops) is deprecated and will be removed in a future version.\n",
            "Instructions for updating:\n",
            "Colocations handled automatically by placer.\n",
            "WARNING:tensorflow:From /usr/local/lib/python3.6/dist-packages/tensorflow/python/ops/math_ops.py:3066: to_int32 (from tensorflow.python.ops.math_ops) is deprecated and will be removed in a future version.\n",
            "Instructions for updating:\n",
            "Use tf.cast instead.\n",
            "[[0. 0. 0. 0. 0. 1.]]\n",
            "Yellow Curl Virus\n",
            "/content\n"
          ],
          "name": "stdout"
        }
      ]
    }
  ]
}