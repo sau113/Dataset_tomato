{
  "nbformat": 4,
  "nbformat_minor": 0,
  "metadata": {
    "colab": {
      "name": "Untitled1.ipynb",
      "version": "0.3.2",
      "provenance": [],
      "include_colab_link": true
    },
    "kernelspec": {
      "name": "python3",
      "display_name": "Python 3"
    },
    "accelerator": "GPU"
  },
  "cells": [
    {
      "cell_type": "markdown",
      "metadata": {
        "id": "view-in-github",
        "colab_type": "text"
      },
      "source": [
        "<a href=\"https://colab.research.google.com/github/sau113/Dataset_tomato/blob/master/Trainer.ipynb\" target=\"_parent\"><img src=\"https://colab.research.google.com/assets/colab-badge.svg\" alt=\"Open In Colab\"/></a>"
      ]
    },
    {
      "metadata": {
        "id": "QP_QrGqaNdzg",
        "colab_type": "code",
        "colab": {
          "base_uri": "https://localhost:8080/",
          "height": 51
        },
        "outputId": "42b7b266-823c-4eac-dccd-18a2e73535c8"
      },
      "cell_type": "code",
      "source": [
        "import os\n",
        "import glob\n",
        "import numpy as np\n",
        "from tensorflow.keras import layers\n",
        "from tensorflow import keras \n",
        "import tensorflow as tf\n",
        "\n",
        "from keras.models import Sequential\n",
        "from keras.layers import Convolution2D\n",
        "from keras.layers import MaxPooling2D\n",
        "from keras.layers import Flatten\n",
        "from keras.layers import Dense\n",
        "\n",
        "network = Sequential()\n",
        "\n",
        "network.add(Convolution2D(32,3,3,input_shape = (64,64,3),activation = 'relu'))\n",
        "\n",
        "network.add(MaxPooling2D(pool_size = (2,2)))\n",
        "\n",
        "network.add(Convolution2D(32, 3, 3, activation = 'relu'))\n",
        "network.add(MaxPooling2D(pool_size = (2, 2)))\n",
        "\n",
        "network.add(Flatten())\n",
        "\n",
        "network.add(Dense(output_dim = 128, activation = 'relu'))\n",
        "network.add(Dense(output_dim = 64, activation = 'relu'))\n",
        "network.add(Dense(output_dim = 1, activation = 'sigmoid'))\n",
        "\n",
        "network.compile(optimizer = 'adam', loss = 'binary_crossentropy', metrics = ['accuracy'])\n",
        "\n",
        "from keras.preprocessing.image import ImageDataGenerator\n",
        "\n",
        "train_data = ImageDataGenerator(rescale = 1./255, \n",
        "                                shear_range = 0.2,\n",
        "                                zoom_range = 0.2,\n",
        "                                horizontal_flip = True)\n",
        "\n",
        "valid_data = ImageDataGenerator(rescale = 1./255)\n",
        "\n",
        "\n",
        "\n",
        "! git clone https://github.com/sau113/Dataset_tomato.git\n",
        "\n",
        "\n",
        "  \n",
        "training_set = train_data.flow_from_directory('Dataset_tomato/Training_set',\n",
        "                                              target_size = (64,64),\n",
        "                                              batch_size = 10,\n",
        "                                              class_mode = \"binary\")\n",
        "\n",
        "\n",
        "valid_set= valid_data.flow_from_directory('Dataset_tomato/Validation_set',\n",
        "                                          target_size = (64,64),\n",
        "                                          batch_size=10,\n",
        "                                          class_mode=\"binary\")\n",
        "\n",
        "\n",
        "\n",
        "network.fit_generator(training_set,\n",
        "                      steps_per_epoch = 1600,\n",
        "                      epochs = 40 ,\n",
        "                      validation_data = valid_set,\n",
        "                      validation_steps = 400)\n",
        "\n",
        "\n",
        "! rm -r Dataset_tomato\n",
        "\n",
        "! git clone https://github.com/sau113/Dataset_tomato.git\n",
        "\n",
        "\n",
        "from keras.preprocessing import image\n",
        "import numpy as np\n",
        " \n",
        "test_image = image.load_img('Dataset_tomato/Test_set/LB2.jpg', target_size=(64, 64))\n",
        "test_image = image.img_to_array(test_image)\n",
        "test_image = np.array(test_image).astype('float32')/255\n",
        "test_image = np.expand_dims(test_image, axis=0)\n",
        " \n",
        "classes = network.predict(test_image)\n",
        "print(classes[0][0])\n",
        "if classes[0][0] >= 0.5:\n",
        "    print(\"LB\")\n",
        "else:\n",
        "    print(\"HL\")\n",
        "\n"
      ],
      "execution_count": 21,
      "outputs": [
        {
          "output_type": "stream",
          "text": [
            "1.0\n",
            "LB\n"
          ],
          "name": "stdout"
        }
      ]
    }
  ]
}