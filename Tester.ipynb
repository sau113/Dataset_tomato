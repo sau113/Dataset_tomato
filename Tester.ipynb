{
  "nbformat": 4,
  "nbformat_minor": 0,
  "metadata": {
    "colab": {
      "name": "Untitled2.ipynb",
      "version": "0.3.2",
      "provenance": [],
      "include_colab_link": true
    },
    "kernelspec": {
      "name": "python3",
      "display_name": "Python 3"
    }
  },
  "cells": [
    {
      "cell_type": "markdown",
      "metadata": {
        "id": "view-in-github",
        "colab_type": "text"
      },
      "source": [
        "<a href=\"https://colab.research.google.com/github/sau113/Dataset_tomato/blob/master/Tester.ipynb\" target=\"_parent\"><img src=\"https://colab.research.google.com/assets/colab-badge.svg\" alt=\"Open In Colab\"/></a>"
      ]
    },
    {
      "metadata": {
        "id": "MZ-B6rRnAIs-",
        "colab_type": "code",
        "outputId": "db031dc6-a81f-4ad7-8fa9-936f4d8926b0",
        "colab": {
          "base_uri": "https://localhost:8080/",
          "height": 238
        }
      },
      "cell_type": "code",
      "source": [
        "\n",
        "! rm -r Dataset_tomato\n",
        "\n",
        "! git clone https://github.com/sau113/Dataset_tomato.git\n",
        "  \n",
        "! cd/Dataset_tomato\n",
        "\n",
        "\n",
        "from keras.preprocessing import image\n",
        "import numpy as np\n",
        "import h5py\n",
        "from keras.models import load_model\n",
        "\n",
        "\n",
        "\n",
        "\n",
        "! ls\n",
        "\n",
        "network = load_model('train_data.h5')\n",
        "\n",
        "test_image = image.load_img('Dataset_tomato/Test_set/LB2.jpg', target_size=(64, 64))\n",
        "test_image = image.img_to_array(test_image)\n",
        "test_image = np.array(test_image).astype('float32')/255\n",
        "test_image = np.expand_dims(test_image, axis=0)\n",
        " \n",
        "classes = network.predict(test_image)\n",
        "print(classes[0][0])\n",
        "if classes[0][0] >= 0.5:\n",
        "    print(\"LB\")\n",
        "else:\n",
        "    print(\"HL\")\n",
        "    \n",
        "! cd .."
      ],
      "execution_count": 27,
      "outputs": [
        {
          "output_type": "stream",
          "text": [
            "rm: cannot remove 'Dataset_tomato': No such file or directory\n",
            "Cloning into 'Dataset_tomato'...\n",
            "remote: Enumerating objects: 2034, done.\u001b[K\n",
            "remote: Counting objects: 100% (2034/2034), done.\u001b[K\n",
            "remote: Compressing objects: 100% (2034/2034), done.\u001b[K\n",
            "remote: Total 2034 (delta 13), reused 2004 (delta 0), pack-reused 0\u001b[K\n",
            "Receiving objects: 100% (2034/2034), 42.30 MiB | 26.49 MiB/s, done.\n",
            "Resolving deltas: 100% (13/13), done.\n",
            "/bin/bash: cd/Dataset_tomato: No such file or directory\n",
            "Dataset_tomato\tTester.ipynb  train_data.h5  Training_set\n",
            "LB2.JPG\t\tTest_set      Trainer.ipynb  Validation_set\n",
            "1.0\n",
            "LB\n"
          ],
          "name": "stdout"
        }
      ]
    }
  ]
}