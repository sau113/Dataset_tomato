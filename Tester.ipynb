{
  "nbformat": 4,
  "nbformat_minor": 0,
  "metadata": {
    "colab": {
      "name": "Untitled2.ipynb",
      "version": "0.3.2",
      "provenance": [],
      "include_colab_link": true
    },
    "kernelspec": {
      "name": "python3",
      "display_name": "Python 3"
    }
  },
  "cells": [
    {
      "cell_type": "markdown",
      "metadata": {
        "id": "view-in-github",
        "colab_type": "text"
      },
      "source": [
        "<a href=\"https://colab.research.google.com/github/sau113/Dataset_tomato/blob/master/Tester.ipynb\" target=\"_parent\"><img src=\"https://colab.research.google.com/assets/colab-badge.svg\" alt=\"Open In Colab\"/></a>"
      ]
    },
    {
      "metadata": {
        "id": "MZ-B6rRnAIs-",
        "colab_type": "code",
        "outputId": "9a546f8a-75cf-45f6-ea47-5b3e2d5f589d",
        "colab": {
          "base_uri": "https://localhost:8080/",
          "height": 51
        }
      },
      "cell_type": "code",
      "source": [
        "from IPython.display import clear_output\n",
        "from keras.preprocessing import image\n",
        "import numpy as np\n",
        "import h5py\n",
        "from keras.models import load_model\n",
        "\n",
        "! rm -r Dataset_tomato\n",
        "\n",
        "! git clone https://github.com/sau113/Dataset_tomato.git\n",
        "  \n",
        "clear_output()\n",
        "\n",
        "\n",
        "\n",
        "\n",
        "% cd Dataset_tomato\n",
        "\n",
        "\n",
        "! ls\n",
        "\n",
        "network = load_model('train_data.h5')\n",
        "\n",
        "test_image = image.load_img('Test_set/YCV.jpg', target_size=(64, 64))\n",
        "test_image = image.img_to_array(test_image)\n",
        "\n",
        "test_image = np.expand_dims(test_image, axis=0)\n",
        "\n",
        "\n",
        "clear_output()\n",
        "\n",
        "classes = network.predict(test_image)\n",
        "# print(classes)\n",
        "\n",
        "% cd ..\n",
        "\n",
        "clear_output()\n",
        "\n",
        "if classes[0,0] == 1:\n",
        "  print(\"Bacterial Spot\")\n",
        "elif classes[0,1] == 1:\n",
        "  print(\"Early Blight\")\n",
        "elif classes[0,3] == 1:\n",
        "  print(\"Late Blight\")\n",
        "elif classes[0,4] == 1:\n",
        "  print(\"Leaf Mold\")\n",
        "elif classes[0,5] == 1:\n",
        "  print(\"Yellow Curl Virus\")\n",
        "else :\n",
        "  print(\"Healthy\")\n",
        "    \n"
      ],
      "execution_count": 2,
      "outputs": [
        {
          "output_type": "stream",
          "text": [
            "/content\n",
            "Yellow Curl Virus\n"
          ],
          "name": "stdout"
        }
      ]
    }
  ]
}