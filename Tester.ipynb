{
  "nbformat": 4,
  "nbformat_minor": 0,
  "metadata": {
    "colab": {
      "name": "Untitled2.ipynb",
      "version": "0.3.2",
      "provenance": [],
      "include_colab_link": true
    },
    "kernelspec": {
      "name": "python3",
      "display_name": "Python 3"
    }
  },
  "cells": [
    {
      "cell_type": "markdown",
      "metadata": {
        "id": "view-in-github",
        "colab_type": "text"
      },
      "source": [
        "<a href=\"https://colab.research.google.com/github/sau113/Dataset_tomato/blob/master/Tester.ipynb\" target=\"_parent\"><img src=\"https://colab.research.google.com/assets/colab-badge.svg\" alt=\"Open In Colab\"/></a>"
      ]
    },
    {
      "metadata": {
        "id": "MZ-B6rRnAIs-",
        "colab_type": "code",
        "outputId": "af5f490e-a826-400a-d3b2-e0ec049a40cb",
        "colab": {
          "base_uri": "https://localhost:8080/",
          "height": 255
        }
      },
      "cell_type": "code",
      "source": [
        "\n",
        "! rm -r Dataset_tomato\n",
        "\n",
        "! git clone https://github.com/sau113/Dataset_tomato.git\n",
        "  \n",
        "\n",
        "\n",
        "\n",
        "from keras.preprocessing import image\n",
        "import numpy as np\n",
        "import h5py\n",
        "from keras.models import load_model\n",
        "\n",
        "% cd Dataset_tomato\n",
        "\n",
        "\n",
        "! ls\n",
        "\n",
        "network = load_model('train_data.h5')\n",
        "\n",
        "test_image = image.load_img('Test_set/YCV.jpg', target_size=(64, 64))\n",
        "test_image = image.img_to_array(test_image)\n",
        "test_image = np.array(test_image).astype('float32')/255\n",
        "test_image = np.expand_dims(test_image, axis=0)\n",
        " \n",
        "classes = network.predict(test_image)\n",
        "print(classes[0][0])\n",
        "if classes[0][0] >= 0.5:\n",
        "    print(\"Healthy\")\n",
        "else:\n",
        "    print(\"Diseased\")\n",
        "    \n",
        "% cd .."
      ],
      "execution_count": 4,
      "outputs": [
        {
          "output_type": "stream",
          "text": [
            "Cloning into 'Dataset_tomato'...\n",
            "remote: Enumerating objects: 16, done.\u001b[K\n",
            "remote: Counting objects:   6% (1/16)   \u001b[K\rremote: Counting objects:  12% (2/16)   \u001b[K\rremote: Counting objects:  18% (3/16)   \u001b[K\rremote: Counting objects:  25% (4/16)   \u001b[K\rremote: Counting objects:  31% (5/16)   \u001b[K\rremote: Counting objects:  37% (6/16)   \u001b[K\rremote: Counting objects:  43% (7/16)   \u001b[K\rremote: Counting objects:  50% (8/16)   \u001b[K\rremote: Counting objects:  56% (9/16)   \u001b[K\rremote: Counting objects:  62% (10/16)   \u001b[K\rremote: Counting objects:  68% (11/16)   \u001b[K\rremote: Counting objects:  75% (12/16)   \u001b[K\rremote: Counting objects:  81% (13/16)   \u001b[K\rremote: Counting objects:  87% (14/16)   \u001b[K\rremote: Counting objects:  93% (15/16)   \u001b[K\rremote: Counting objects: 100% (16/16)   \u001b[K\rremote: Counting objects: 100% (16/16), done.\u001b[K\n",
            "remote: Compressing objects: 100% (14/14), done.\u001b[K\n",
            "remote: Total 11525 (delta 3), reused 13 (delta 2), pack-reused 11509\u001b[K\n",
            "Receiving objects: 100% (11525/11525), 171.56 MiB | 37.34 MiB/s, done.\n",
            "Resolving deltas: 100% (32/32), done.\n",
            "Checking out files: 100% (11442/11442), done.\n",
            "/content/Dataset_tomato\n",
            "Tester.ipynb  train_data.h5  Training_set\n",
            "Test_set      Trainer.ipynb  Validation_set\n",
            "2.1460147e-08\n",
            "Diseased\n",
            "/content\n"
          ],
          "name": "stdout"
        }
      ]
    }
  ]
}