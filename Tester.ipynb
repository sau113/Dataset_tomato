{
  "nbformat": 4,
  "nbformat_minor": 0,
  "metadata": {
    "colab": {
      "name": "Untitled2.ipynb",
      "version": "0.3.2",
      "provenance": [],
      "include_colab_link": true
    },
    "kernelspec": {
      "name": "python3",
      "display_name": "Python 3"
    }
  },
  "cells": [
    {
      "cell_type": "markdown",
      "metadata": {
        "id": "view-in-github",
        "colab_type": "text"
      },
      "source": [
        "<a href=\"https://colab.research.google.com/github/sau113/Dataset_tomato/blob/master/Tester.ipynb\" target=\"_parent\"><img src=\"https://colab.research.google.com/assets/colab-badge.svg\" alt=\"Open In Colab\"/></a>"
      ]
    },
    {
      "metadata": {
        "id": "MZ-B6rRnAIs-",
        "colab_type": "code",
        "colab": {}
      },
      "cell_type": "code",
      "source": [
        "\n",
        "! rm -r Dataset_tomato\n",
        "\n",
        "! git clone https://github.com/sau113/Dataset_tomato.git\n",
        "\n",
        "\n",
        "from keras.preprocessing import image\n",
        "import numpy as np\n",
        " \n",
        "test_image = image.load_img('Dataset_tomato/Test_set/LB2.jpg', target_size=(64, 64))\n",
        "test_image = image.img_to_array(test_image)\n",
        "test_image = np.array(test_image).astype('float32')/255\n",
        "test_image = np.expand_dims(test_image, axis=0)\n",
        " \n",
        "classes = network.predict(test_image)\n",
        "print(classes[0][0])\n",
        "if classes[0][0] >= 0.5:\n",
        "    print(\"LB\")\n",
        "else:\n",
        "    print(\"HL\")"
      ],
      "execution_count": 0,
      "outputs": []
    }
  ]
}